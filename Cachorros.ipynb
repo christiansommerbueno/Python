{
 "cells": [
  {
   "cell_type": "markdown",
   "metadata": {
    "colab_type": "text",
    "id": "yKMsvRfNY3hz"
   },
   "source": [
    "<h1>Trabalho de Aprendizagem Supervisionada</h1>\n",
    "\n",
    "<h2>  Raças de cachorros</h2>\n",
    "\n",
    "<h4>Integrantes: Christian Sommer Bueno (1831143062) e Fabio Rogerio Zilli (1831143063)</h4>\n",
    "\n",
    "Fonte: Stanford Dogs Dataset\n",
    "Over 20,000 images of 120 dog breeds (Kaggle)"
   ]
  },
  {
   "cell_type": "code",
   "execution_count": 0,
   "metadata": {
    "colab": {},
    "colab_type": "code",
    "id": "5TjWCagjY3h1"
   },
   "outputs": [],
   "source": [
    "import tensorflow as tf\n",
    "device_name = tf.test.gpu_device_name()\n",
    "if device_name != '/device:GPU:0':\n",
    "  raise SystemError('GPU device not found')"
   ]
  },
  {
   "cell_type": "code",
   "execution_count": 0,
   "metadata": {
    "colab": {
     "base_uri": "https://localhost:8080/",
     "height": 34
    },
    "colab_type": "code",
    "id": "v5-4O6_GY3h4",
    "outputId": "bf4a086d-8780-42b8-a3d3-9c50bd5d015c"
   },
   "outputs": [
    {
     "name": "stdout",
     "output_type": "stream",
     "text": [
      "Drive already mounted at /content/drive/; to attempt to forcibly remount, call drive.mount(\"/content/drive/\", force_remount=True).\n"
     ]
    }
   ],
   "source": [
    "from google.colab import drive\n",
    "drive.mount('/content/drive/')"
   ]
  },
  {
   "cell_type": "code",
   "execution_count": 0,
   "metadata": {
    "colab": {
     "base_uri": "https://localhost:8080/",
     "height": 377
    },
    "colab_type": "code",
    "id": "ha8Bo3N4Y3h_",
    "outputId": "ad3e4fe0-50fc-4828-af9c-548726f95845"
   },
   "outputs": [
    {
     "name": "stdout",
     "output_type": "stream",
     "text": [
      "Requirement already satisfied: tensorflow in /usr/local/lib/python3.6/dist-packages (1.13.1)\n",
      "Requirement already satisfied: tensorboard<1.14.0,>=1.13.0 in /usr/local/lib/python3.6/dist-packages (from tensorflow) (1.13.1)\n",
      "Requirement already satisfied: keras-preprocessing>=1.0.5 in /usr/local/lib/python3.6/dist-packages (from tensorflow) (1.0.9)\n",
      "Requirement already satisfied: astor>=0.6.0 in /usr/local/lib/python3.6/dist-packages (from tensorflow) (0.7.1)\n",
      "Requirement already satisfied: keras-applications>=1.0.6 in /usr/local/lib/python3.6/dist-packages (from tensorflow) (1.0.7)\n",
      "Requirement already satisfied: grpcio>=1.8.6 in /usr/local/lib/python3.6/dist-packages (from tensorflow) (1.15.0)\n",
      "Requirement already satisfied: termcolor>=1.1.0 in /usr/local/lib/python3.6/dist-packages (from tensorflow) (1.1.0)\n",
      "Requirement already satisfied: wheel>=0.26 in /usr/local/lib/python3.6/dist-packages (from tensorflow) (0.33.1)\n",
      "Requirement already satisfied: six>=1.10.0 in /usr/local/lib/python3.6/dist-packages (from tensorflow) (1.12.0)\n",
      "Requirement already satisfied: gast>=0.2.0 in /usr/local/lib/python3.6/dist-packages (from tensorflow) (0.2.2)\n",
      "Requirement already satisfied: absl-py>=0.1.6 in /usr/local/lib/python3.6/dist-packages (from tensorflow) (0.7.1)\n",
      "Requirement already satisfied: protobuf>=3.6.1 in /usr/local/lib/python3.6/dist-packages (from tensorflow) (3.7.1)\n",
      "Requirement already satisfied: numpy>=1.13.3 in /usr/local/lib/python3.6/dist-packages (from tensorflow) (1.16.3)\n",
      "Requirement already satisfied: tensorflow-estimator<1.14.0rc0,>=1.13.0 in /usr/local/lib/python3.6/dist-packages (from tensorflow) (1.13.0)\n",
      "Requirement already satisfied: werkzeug>=0.11.15 in /usr/local/lib/python3.6/dist-packages (from tensorboard<1.14.0,>=1.13.0->tensorflow) (0.15.2)\n",
      "Requirement already satisfied: markdown>=2.6.8 in /usr/local/lib/python3.6/dist-packages (from tensorboard<1.14.0,>=1.13.0->tensorflow) (3.1)\n",
      "Requirement already satisfied: h5py in /usr/local/lib/python3.6/dist-packages (from keras-applications>=1.0.6->tensorflow) (2.8.0)\n",
      "Requirement already satisfied: setuptools in /usr/local/lib/python3.6/dist-packages (from protobuf>=3.6.1->tensorflow) (40.9.0)\n",
      "Requirement already satisfied: mock>=2.0.0 in /usr/local/lib/python3.6/dist-packages (from tensorflow-estimator<1.14.0rc0,>=1.13.0->tensorflow) (2.0.0)\n",
      "Requirement already satisfied: pbr>=0.11 in /usr/local/lib/python3.6/dist-packages (from mock>=2.0.0->tensorflow-estimator<1.14.0rc0,>=1.13.0->tensorflow) (5.1.3)\n"
     ]
    }
   ],
   "source": [
    "!pip install tensorflow"
   ]
  },
  {
   "cell_type": "markdown",
   "metadata": {
    "colab_type": "text",
    "id": "IgHeTsrIY3iB"
   },
   "source": [
    "O conjunto de dados contém mais de 20 mil imagens de cães de várias raças (120 raças ou classes). Depois de fazer o download e descompactá-lo, criaremos um novo conjunto de dados contendo dois subconjuntos: um conjunto de treinamento com amostras de cada classe e um conjunto de validação com amostras de cada classe."
   ]
  },
  {
   "cell_type": "code",
   "execution_count": 0,
   "metadata": {
    "colab": {},
    "colab_type": "code",
    "id": "m46fYjmGY3iC"
   },
   "outputs": [],
   "source": [
    "import os, shutil\n",
    "\n",
    "# Diretório com o conjunto de dados\n",
    "base_dir = '/content/drive/My Drive/Colab Notebooks/Cachorros'"
   ]
  },
  {
   "cell_type": "code",
   "execution_count": 0,
   "metadata": {
    "colab": {},
    "colab_type": "code",
    "id": "8HUcMg9zzCLj"
   },
   "outputs": [],
   "source": [
    "# Listando o diretório base\n",
    "Diretorio_Base = os.listdir(os.path.join(base_dir,'stanford_dogs_dataset'))\n",
    "\n",
    "# Criando as pastas de treinamento e validação\n",
    "for Classes in Diretorio_Base:\n",
    "  os.makedirs(os.path.join(base_dir,'train',Classes))\n",
    "  os.makedirs(os.path.join(base_dir,'validation',Classes))"
   ]
  },
  {
   "cell_type": "code",
   "execution_count": 0,
   "metadata": {
    "colab": {
     "base_uri": "https://localhost:8080/",
     "height": 2057
    },
    "colab_type": "code",
    "id": "stWB0hRD6Tn8",
    "outputId": "e1b8e990-fdc6-49d0-a5e3-a82e0b9412a7"
   },
   "outputs": [
    {
     "name": "stdout",
     "output_type": "stream",
     "text": [
      "/content/drive/My Drive/Colab Notebooks/Cachorros/stanford_dogs_dataset/n02086240-Shih-Tzu\n",
      "/content/drive/My Drive/Colab Notebooks/Cachorros/stanford_dogs_dataset/n02086646-Blenheim_spaniel\n",
      "/content/drive/My Drive/Colab Notebooks/Cachorros/stanford_dogs_dataset/n02085620-Chihuahua\n",
      "/content/drive/My Drive/Colab Notebooks/Cachorros/stanford_dogs_dataset/n02086910-papillon\n",
      "/content/drive/My Drive/Colab Notebooks/Cachorros/stanford_dogs_dataset/n02085782-Japanese_spaniel\n",
      "/content/drive/My Drive/Colab Notebooks/Cachorros/stanford_dogs_dataset/n02087394-Rhodesian_ridgeback\n",
      "/content/drive/My Drive/Colab Notebooks/Cachorros/stanford_dogs_dataset/n02086079-Pekinese\n",
      "/content/drive/My Drive/Colab Notebooks/Cachorros/stanford_dogs_dataset/n02085936-Maltese_dog\n",
      "/content/drive/My Drive/Colab Notebooks/Cachorros/stanford_dogs_dataset/n02087046-toy_terrier\n",
      "/content/drive/My Drive/Colab Notebooks/Cachorros/stanford_dogs_dataset/n02090721-Irish_wolfhound\n",
      "/content/drive/My Drive/Colab Notebooks/Cachorros/stanford_dogs_dataset/n02088466-bloodhound\n",
      "/content/drive/My Drive/Colab Notebooks/Cachorros/stanford_dogs_dataset/n02090622-borzoi\n",
      "/content/drive/My Drive/Colab Notebooks/Cachorros/stanford_dogs_dataset/n02090379-redbone\n",
      "/content/drive/My Drive/Colab Notebooks/Cachorros/stanford_dogs_dataset/n02088238-basset\n",
      "/content/drive/My Drive/Colab Notebooks/Cachorros/stanford_dogs_dataset/n02088364-beagle\n",
      "/content/drive/My Drive/Colab Notebooks/Cachorros/stanford_dogs_dataset/n02089973-English_foxhound\n",
      "/content/drive/My Drive/Colab Notebooks/Cachorros/stanford_dogs_dataset/n02089078-black-and-tan_coonhound\n",
      "/content/drive/My Drive/Colab Notebooks/Cachorros/stanford_dogs_dataset/n02088632-bluetick\n",
      "/content/drive/My Drive/Colab Notebooks/Cachorros/stanford_dogs_dataset/n02089867-Walker_hound\n",
      "/content/drive/My Drive/Colab Notebooks/Cachorros/stanford_dogs_dataset/n02092002-Scottish_deerhound\n",
      "/content/drive/My Drive/Colab Notebooks/Cachorros/stanford_dogs_dataset/n02091635-otterhound\n",
      "/content/drive/My Drive/Colab Notebooks/Cachorros/stanford_dogs_dataset/n02091467-Norwegian_elkhound\n",
      "/content/drive/My Drive/Colab Notebooks/Cachorros/stanford_dogs_dataset/n02091244-Ibizan_hound\n",
      "/content/drive/My Drive/Colab Notebooks/Cachorros/stanford_dogs_dataset/n02093256-Staffordshire_bullterrier\n",
      "/content/drive/My Drive/Colab Notebooks/Cachorros/stanford_dogs_dataset/n02091032-Italian_greyhound\n",
      "/content/drive/My Drive/Colab Notebooks/Cachorros/stanford_dogs_dataset/n02092339-Weimaraner\n",
      "/content/drive/My Drive/Colab Notebooks/Cachorros/stanford_dogs_dataset/n02091134-whippet\n",
      "/content/drive/My Drive/Colab Notebooks/Cachorros/stanford_dogs_dataset/n02093428-American_Staffordshire_terrier\n",
      "/content/drive/My Drive/Colab Notebooks/Cachorros/stanford_dogs_dataset/n02091831-Saluki\n",
      "/content/drive/My Drive/Colab Notebooks/Cachorros/stanford_dogs_dataset/n02095570-Lakeland_terrier\n",
      "/content/drive/My Drive/Colab Notebooks/Cachorros/stanford_dogs_dataset/n02095889-Sealyham_terrier\n",
      "/content/drive/My Drive/Colab Notebooks/Cachorros/stanford_dogs_dataset/n02095314-wire-haired_fox_terrier\n",
      "/content/drive/My Drive/Colab Notebooks/Cachorros/stanford_dogs_dataset/n02094433-Yorkshire_terrier\n",
      "/content/drive/My Drive/Colab Notebooks/Cachorros/stanford_dogs_dataset/n02093859-Kerry_blue_terrier\n",
      "/content/drive/My Drive/Colab Notebooks/Cachorros/stanford_dogs_dataset/n02093647-Bedlington_terrier\n",
      "/content/drive/My Drive/Colab Notebooks/Cachorros/stanford_dogs_dataset/n02093991-Irish_terrier\n",
      "/content/drive/My Drive/Colab Notebooks/Cachorros/stanford_dogs_dataset/n02094114-Norfolk_terrier\n",
      "/content/drive/My Drive/Colab Notebooks/Cachorros/stanford_dogs_dataset/n02094258-Norwich_terrier\n",
      "/content/drive/My Drive/Colab Notebooks/Cachorros/stanford_dogs_dataset/n02093754-Border_terrier\n",
      "/content/drive/My Drive/Colab Notebooks/Cachorros/stanford_dogs_dataset/n02097209-standard_schnauzer\n",
      "/content/drive/My Drive/Colab Notebooks/Cachorros/stanford_dogs_dataset/n02097130-giant_schnauzer\n",
      "/content/drive/My Drive/Colab Notebooks/Cachorros/stanford_dogs_dataset/n02096051-Airedale\n",
      "/content/drive/My Drive/Colab Notebooks/Cachorros/stanford_dogs_dataset/n02096437-Dandie_Dinmont\n",
      "/content/drive/My Drive/Colab Notebooks/Cachorros/stanford_dogs_dataset/n02097298-Scotch_terrier\n",
      "/content/drive/My Drive/Colab Notebooks/Cachorros/stanford_dogs_dataset/n02096177-cairn\n",
      "/content/drive/My Drive/Colab Notebooks/Cachorros/stanford_dogs_dataset/n02096585-Boston_bull\n",
      "/content/drive/My Drive/Colab Notebooks/Cachorros/stanford_dogs_dataset/n02096294-Australian_terrier\n",
      "/content/drive/My Drive/Colab Notebooks/Cachorros/stanford_dogs_dataset/n02097047-miniature_schnauzer\n",
      "/content/drive/My Drive/Colab Notebooks/Cachorros/stanford_dogs_dataset/n02097474-Tibetan_terrier\n",
      "/content/drive/My Drive/Colab Notebooks/Cachorros/stanford_dogs_dataset/n02099429-curly-coated_retriever\n",
      "/content/drive/My Drive/Colab Notebooks/Cachorros/stanford_dogs_dataset/n02099267-flat-coated_retriever\n",
      "/content/drive/My Drive/Colab Notebooks/Cachorros/stanford_dogs_dataset/n02097658-silky_terrier\n",
      "/content/drive/My Drive/Colab Notebooks/Cachorros/stanford_dogs_dataset/n02100236-German_short-haired_pointer\n",
      "/content/drive/My Drive/Colab Notebooks/Cachorros/stanford_dogs_dataset/n02099712-Labrador_retriever\n",
      "/content/drive/My Drive/Colab Notebooks/Cachorros/stanford_dogs_dataset/n02098286-West_Highland_white_terrier\n",
      "/content/drive/My Drive/Colab Notebooks/Cachorros/stanford_dogs_dataset/n02099849-Chesapeake_Bay_retriever\n",
      "/content/drive/My Drive/Colab Notebooks/Cachorros/stanford_dogs_dataset/n02098413-Lhasa\n",
      "/content/drive/My Drive/Colab Notebooks/Cachorros/stanford_dogs_dataset/n02099601-golden_retriever\n",
      "/content/drive/My Drive/Colab Notebooks/Cachorros/stanford_dogs_dataset/n02098105-soft-coated_wheaten_terrier\n",
      "/content/drive/My Drive/Colab Notebooks/Cachorros/stanford_dogs_dataset/n02101388-Brittany_spaniel\n",
      "/content/drive/My Drive/Colab Notebooks/Cachorros/stanford_dogs_dataset/n02102040-English_springer\n",
      "/content/drive/My Drive/Colab Notebooks/Cachorros/stanford_dogs_dataset/n02102177-Welsh_springer_spaniel\n",
      "/content/drive/My Drive/Colab Notebooks/Cachorros/stanford_dogs_dataset/n02101006-Gordon_setter\n",
      "/content/drive/My Drive/Colab Notebooks/Cachorros/stanford_dogs_dataset/n02102318-cocker_spaniel\n",
      "/content/drive/My Drive/Colab Notebooks/Cachorros/stanford_dogs_dataset/n02100583-vizsla\n",
      "/content/drive/My Drive/Colab Notebooks/Cachorros/stanford_dogs_dataset/n02102480-Sussex_spaniel\n",
      "/content/drive/My Drive/Colab Notebooks/Cachorros/stanford_dogs_dataset/n02100735-English_setter\n",
      "/content/drive/My Drive/Colab Notebooks/Cachorros/stanford_dogs_dataset/n02101556-clumber\n",
      "/content/drive/My Drive/Colab Notebooks/Cachorros/stanford_dogs_dataset/n02100877-Irish_setter\n",
      "/content/drive/My Drive/Colab Notebooks/Cachorros/stanford_dogs_dataset/n02105056-groenendael\n",
      "/content/drive/My Drive/Colab Notebooks/Cachorros/stanford_dogs_dataset/n02105855-Shetland_sheepdog\n",
      "/content/drive/My Drive/Colab Notebooks/Cachorros/stanford_dogs_dataset/n02105162-malinois\n",
      "/content/drive/My Drive/Colab Notebooks/Cachorros/stanford_dogs_dataset/n02104365-schipperke\n",
      "/content/drive/My Drive/Colab Notebooks/Cachorros/stanford_dogs_dataset/n02105641-Old_English_sheepdog\n",
      "/content/drive/My Drive/Colab Notebooks/Cachorros/stanford_dogs_dataset/n02105412-kelpie\n",
      "/content/drive/My Drive/Colab Notebooks/Cachorros/stanford_dogs_dataset/n02105505-komondor\n",
      "/content/drive/My Drive/Colab Notebooks/Cachorros/stanford_dogs_dataset/n02102973-Irish_water_spaniel\n",
      "/content/drive/My Drive/Colab Notebooks/Cachorros/stanford_dogs_dataset/n02104029-kuvasz\n",
      "/content/drive/My Drive/Colab Notebooks/Cachorros/stanford_dogs_dataset/n02105251-briard\n",
      "/content/drive/My Drive/Colab Notebooks/Cachorros/stanford_dogs_dataset/n02106550-Rottweiler\n",
      "/content/drive/My Drive/Colab Notebooks/Cachorros/stanford_dogs_dataset/n02106030-collie\n",
      "/content/drive/My Drive/Colab Notebooks/Cachorros/stanford_dogs_dataset/n02107312-miniature_pinscher\n",
      "/content/drive/My Drive/Colab Notebooks/Cachorros/stanford_dogs_dataset/n02107908-Appenzeller\n",
      "/content/drive/My Drive/Colab Notebooks/Cachorros/stanford_dogs_dataset/n02106382-Bouvier_des_Flandres\n",
      "/content/drive/My Drive/Colab Notebooks/Cachorros/stanford_dogs_dataset/n02107574-Greater_Swiss_Mountain_dog\n",
      "/content/drive/My Drive/Colab Notebooks/Cachorros/stanford_dogs_dataset/n02106166-Border_collie\n",
      "/content/drive/My Drive/Colab Notebooks/Cachorros/stanford_dogs_dataset/n02106662-German_shepherd\n",
      "/content/drive/My Drive/Colab Notebooks/Cachorros/stanford_dogs_dataset/n02107683-Bernese_mountain_dog\n",
      "/content/drive/My Drive/Colab Notebooks/Cachorros/stanford_dogs_dataset/n02107142-Doberman\n",
      "/content/drive/My Drive/Colab Notebooks/Cachorros/stanford_dogs_dataset/n02109961-Eskimo_dog\n",
      "/content/drive/My Drive/Colab Notebooks/Cachorros/stanford_dogs_dataset/n02108422-bull_mastiff\n",
      "/content/drive/My Drive/Colab Notebooks/Cachorros/stanford_dogs_dataset/n02109047-Great_Dane\n",
      "/content/drive/My Drive/Colab Notebooks/Cachorros/stanford_dogs_dataset/n02108915-French_bulldog\n",
      "/content/drive/My Drive/Colab Notebooks/Cachorros/stanford_dogs_dataset/n02110063-malamute\n",
      "/content/drive/My Drive/Colab Notebooks/Cachorros/stanford_dogs_dataset/n02108000-EntleBucher\n",
      "/content/drive/My Drive/Colab Notebooks/Cachorros/stanford_dogs_dataset/n02110185-Siberian_husky\n",
      "/content/drive/My Drive/Colab Notebooks/Cachorros/stanford_dogs_dataset/n02108089-boxer\n",
      "/content/drive/My Drive/Colab Notebooks/Cachorros/stanford_dogs_dataset/n02108551-Tibetan_mastiff\n",
      "/content/drive/My Drive/Colab Notebooks/Cachorros/stanford_dogs_dataset/n02109525-Saint_Bernard\n",
      "/content/drive/My Drive/Colab Notebooks/Cachorros/stanford_dogs_dataset/n02110806-basenji\n",
      "/content/drive/My Drive/Colab Notebooks/Cachorros/stanford_dogs_dataset/n02112018-Pomeranian\n",
      "/content/drive/My Drive/Colab Notebooks/Cachorros/stanford_dogs_dataset/n02111277-Newfoundland\n",
      "/content/drive/My Drive/Colab Notebooks/Cachorros/stanford_dogs_dataset/n02110958-pug\n",
      "/content/drive/My Drive/Colab Notebooks/Cachorros/stanford_dogs_dataset/n02111129-Leonberg\n",
      "/content/drive/My Drive/Colab Notebooks/Cachorros/stanford_dogs_dataset/n02111500-Great_Pyrenees\n",
      "/content/drive/My Drive/Colab Notebooks/Cachorros/stanford_dogs_dataset/n02112350-keeshond\n",
      "/content/drive/My Drive/Colab Notebooks/Cachorros/stanford_dogs_dataset/n02112137-chow\n",
      "/content/drive/My Drive/Colab Notebooks/Cachorros/stanford_dogs_dataset/n02111889-Samoyed\n",
      "/content/drive/My Drive/Colab Notebooks/Cachorros/stanford_dogs_dataset/n02110627-affenpinscher\n",
      "/content/drive/My Drive/Colab Notebooks/Cachorros/stanford_dogs_dataset/n02113799-standard_poodle\n",
      "/content/drive/My Drive/Colab Notebooks/Cachorros/stanford_dogs_dataset/n02115913-dhole\n",
      "/content/drive/My Drive/Colab Notebooks/Cachorros/stanford_dogs_dataset/n02116738-African_hunting_dog\n",
      "/content/drive/My Drive/Colab Notebooks/Cachorros/stanford_dogs_dataset/n02113624-toy_poodle\n",
      "/content/drive/My Drive/Colab Notebooks/Cachorros/stanford_dogs_dataset/n02113712-miniature_poodle\n",
      "/content/drive/My Drive/Colab Notebooks/Cachorros/stanford_dogs_dataset/n02112706-Brabancon_griffon\n",
      "/content/drive/My Drive/Colab Notebooks/Cachorros/stanford_dogs_dataset/n02113023-Pembroke\n",
      "/content/drive/My Drive/Colab Notebooks/Cachorros/stanford_dogs_dataset/n02115641-dingo\n",
      "/content/drive/My Drive/Colab Notebooks/Cachorros/stanford_dogs_dataset/n02113978-Mexican_hairless\n",
      "/content/drive/My Drive/Colab Notebooks/Cachorros/stanford_dogs_dataset/n02113186-Cardigan\n",
      "/content/drive/My Drive/Colab Notebooks/Cachorros/stanford_dogs_dataset/n02088094-Afghan_hound\n"
     ]
    }
   ],
   "source": [
    "# Copiando e separando os arquivos de treinamento e validação\n",
    "\n",
    "for Classes in Diretorio_Base:\n",
    "  pastasDeCachorro = os.path.join(base_dir,'stanford_dogs_dataset',Classes)\n",
    "  print(pastasDeCachorro)\n",
    "  tam = len(os.listdir(pastasDeCachorro))\n",
    "  #print(tam)\n",
    "  pasta = os.listdir(pastasDeCachorro)\n",
    "  i = 0\n",
    "  for picCachorro in pasta:\n",
    "    i += 1\n",
    "    src = os.path.join(base_dir,'stanford_dogs_dataset',Classes,picCachorro)\n",
    "    #print(src)\n",
    "    if i < tam*20//100:\n",
    "      dst = os.path.join(base_dir,'validation',Classes,picCachorro)\n",
    "      shutil.copyfile(src,dst)\n",
    "    else:\n",
    "      dst = os.path.join(base_dir,'train',Classes,picCachorro)\n",
    "      shutil.copyfile(src,dst)"
   ]
  },
  {
   "cell_type": "code",
   "execution_count": 0,
   "metadata": {
    "colab": {},
    "colab_type": "code",
    "id": "bJd0B092Y3iR"
   },
   "outputs": [],
   "source": [
    "# Construindo a rede:\n",
    "\n",
    "from keras import layers\n",
    "from keras import models\n",
    "model = models.Sequential()\n",
    "model.add(layers.Conv2D(32, (3, 3), activation='relu', input_shape=(300, 300, 3)))\n",
    "model.add(layers.MaxPooling2D((2, 2)))\n",
    "model.add(layers.Conv2D(64, (3, 3), activation='relu'))\n",
    "model.add(layers.MaxPooling2D((2, 2)))\n",
    "model.add(layers.Conv2D(64, (3, 3), activation='relu'))\n",
    "model.add(layers.MaxPooling2D((2, 2)))\n",
    "model.add(layers.Conv2D(64, (3, 3), activation='relu'))\n",
    "model.add(layers.MaxPooling2D((2, 2)))\n",
    "model.add(layers.Flatten())\n",
    "model.add(layers.Dense(512, activation='relu'))\n",
    "model.add(layers.Dense(120, activation='softmax'))"
   ]
  },
  {
   "cell_type": "markdown",
   "metadata": {
    "colab_type": "text",
    "id": "mihEKcRzY3iV"
   },
   "source": [
    "A seguir as dimensões dos mapas de características a cada camada sucessiva:"
   ]
  },
  {
   "cell_type": "code",
   "execution_count": 0,
   "metadata": {
    "colab": {
     "base_uri": "https://localhost:8080/",
     "height": 510
    },
    "colab_type": "code",
    "id": "JVoNqljuY3iV",
    "outputId": "a9a0bb27-4bd7-4407-b27a-5c0ecc7874e0"
   },
   "outputs": [
    {
     "name": "stdout",
     "output_type": "stream",
     "text": [
      "_________________________________________________________________\n",
      "Layer (type)                 Output Shape              Param #   \n",
      "=================================================================\n",
      "conv2d_9 (Conv2D)            (None, 298, 298, 32)      896       \n",
      "_________________________________________________________________\n",
      "max_pooling2d_9 (MaxPooling2 (None, 149, 149, 32)      0         \n",
      "_________________________________________________________________\n",
      "conv2d_10 (Conv2D)           (None, 147, 147, 64)      18496     \n",
      "_________________________________________________________________\n",
      "max_pooling2d_10 (MaxPooling (None, 73, 73, 64)        0         \n",
      "_________________________________________________________________\n",
      "conv2d_11 (Conv2D)           (None, 71, 71, 64)        36928     \n",
      "_________________________________________________________________\n",
      "max_pooling2d_11 (MaxPooling (None, 35, 35, 64)        0         \n",
      "_________________________________________________________________\n",
      "conv2d_12 (Conv2D)           (None, 33, 33, 64)        36928     \n",
      "_________________________________________________________________\n",
      "max_pooling2d_12 (MaxPooling (None, 16, 16, 64)        0         \n",
      "_________________________________________________________________\n",
      "flatten_3 (Flatten)          (None, 16384)             0         \n",
      "_________________________________________________________________\n",
      "dense_5 (Dense)              (None, 512)               8389120   \n",
      "_________________________________________________________________\n",
      "dense_6 (Dense)              (None, 120)               61560     \n",
      "=================================================================\n",
      "Total params: 8,543,928\n",
      "Trainable params: 8,543,928\n",
      "Non-trainable params: 0\n",
      "_________________________________________________________________\n"
     ]
    }
   ],
   "source": [
    "model.summary()"
   ]
  },
  {
   "cell_type": "code",
   "execution_count": 0,
   "metadata": {
    "colab": {},
    "colab_type": "code",
    "id": "gAlMtjpMY3iZ"
   },
   "outputs": [],
   "source": [
    "# Usando o otimizador do RMSprop\n",
    "\n",
    "from keras import optimizers\n",
    "model.compile(optimizer=optimizers.RMSprop(lr=1e-4), loss='categorical_crossentropy', metrics=['acc'])"
   ]
  },
  {
   "cell_type": "code",
   "execution_count": 0,
   "metadata": {
    "colab": {
     "base_uri": "https://localhost:8080/",
     "height": 51
    },
    "colab_type": "code",
    "id": "yg0uraUaY3ic",
    "outputId": "a3afec11-2d63-454a-8f32-7619bf994fff"
   },
   "outputs": [
    {
     "name": "stdout",
     "output_type": "stream",
     "text": [
      "Found 16683 images belonging to 120 classes.\n",
      "Found 3965 images belonging to 120 classes.\n"
     ]
    }
   ],
   "source": [
    "# Pré-processamento de dados\n",
    "\n",
    "from keras.preprocessing.image import ImageDataGenerator\n",
    "\n",
    "# Inserindo um randomizador de imagem\n",
    "train_datagen = ImageDataGenerator(\n",
    "    rescale=1./255,\n",
    "    rotation_range=40,\n",
    "    width_shift_range=0.2,\n",
    "    height_shift_range=0.2,\n",
    "    shear_range=0.2,\n",
    "    zoom_range=0.2,\n",
    "    horizontal_flip=True,)\n",
    "\n",
    "test_datagen = ImageDataGenerator(rescale=1./255)\n",
    "\n",
    "# nome do diretório, Redimensiona todas as imagens para 300 × 300, \n",
    "# batch_size=32 (lotes de exemplos de entrada)\n",
    "train_generator = train_datagen.flow_from_directory(\n",
    "    os.path.join(base_dir,'train'), \n",
    "    target_size=(300,300), \n",
    "    batch_size=32, \n",
    "    class_mode='categorical')\n",
    "validation_generator = test_datagen.flow_from_directory(\n",
    "    os.path.join(base_dir,'validation'),\n",
    "    target_size=(300,300),\n",
    "    batch_size=32,\n",
    "    class_mode='categorical')"
   ]
  },
  {
   "cell_type": "markdown",
   "metadata": {
    "colab_type": "text",
    "id": "mlNHo59OY3io"
   },
   "source": [
    "Ajustando o modelo aos dados usando o método fit_generator. Ele espera, como seu primeiro argumento, um gerador Python que produzirá lotes de entradas e rótulos indefinidamente. Como os dados estão sendo gerados indefinidamente, o modelo Keras precisa saber quantas amostras extrair do gerador antes de declarar uma época. Este é o papel do argumento steps_per_epoch: depois de ter desenhado os lotes steps_per_epoch do gerador - isto é, depois de ter corrido para steps_per_epoch gradiente descida - o processo de ajuste irá para a próxima época. Ao final, salva o modelo. "
   ]
  },
  {
   "cell_type": "code",
   "execution_count": 0,
   "metadata": {
    "colab": {
     "base_uri": "https://localhost:8080/",
     "height": 697
    },
    "colab_type": "code",
    "id": "pc4FuBh1Y3ir",
    "outputId": "e2f907ea-aa59-46f4-c463-aadf66f6e373"
   },
   "outputs": [
    {
     "name": "stdout",
     "output_type": "stream",
     "text": [
      "Epoch 1/20\n",
      "520/520 [==============================] - 462s 888ms/step - loss: 4.7271 - acc: 0.0175 - val_loss: 4.6100 - val_acc: 0.0299\n",
      "Epoch 2/20\n",
      "520/520 [==============================] - 448s 862ms/step - loss: 4.5561 - acc: 0.0310 - val_loss: 4.4328 - val_acc: 0.0411\n",
      "Epoch 3/20\n",
      "520/520 [==============================] - 443s 852ms/step - loss: 4.4351 - acc: 0.0446 - val_loss: 4.3236 - val_acc: 0.0530\n",
      "Epoch 4/20\n",
      "520/520 [==============================] - 447s 859ms/step - loss: 4.3535 - acc: 0.0537 - val_loss: 4.2452 - val_acc: 0.0734\n",
      "Epoch 5/20\n",
      "520/520 [==============================] - 447s 860ms/step - loss: 4.2777 - acc: 0.0643 - val_loss: 4.1722 - val_acc: 0.0721\n",
      "Epoch 6/20\n",
      "520/520 [==============================] - 447s 860ms/step - loss: 4.2104 - acc: 0.0740 - val_loss: 4.1191 - val_acc: 0.0875\n",
      "Epoch 7/20\n",
      "520/520 [==============================] - 449s 863ms/step - loss: 4.1619 - acc: 0.0774 - val_loss: 4.1293 - val_acc: 0.0826\n",
      "Epoch 8/20\n",
      "520/520 [==============================] - 449s 864ms/step - loss: 4.0924 - acc: 0.0867 - val_loss: 4.0272 - val_acc: 0.0931\n",
      "Epoch 9/20\n",
      "520/520 [==============================] - 451s 868ms/step - loss: 4.0517 - acc: 0.0924 - val_loss: 4.0046 - val_acc: 0.0993\n",
      "Epoch 10/20\n",
      "520/520 [==============================] - 446s 857ms/step - loss: 4.0002 - acc: 0.0995 - val_loss: 3.9700 - val_acc: 0.1030\n",
      "Epoch 11/20\n",
      "520/520 [==============================] - 448s 862ms/step - loss: 3.9580 - acc: 0.1073 - val_loss: 3.9525 - val_acc: 0.1077\n",
      "Epoch 12/20\n",
      "520/520 [==============================] - 446s 857ms/step - loss: 3.9144 - acc: 0.1115 - val_loss: 3.9630 - val_acc: 0.1093\n",
      "Epoch 13/20\n",
      "520/520 [==============================] - 446s 858ms/step - loss: 3.8812 - acc: 0.1208 - val_loss: 3.9342 - val_acc: 0.1134\n",
      "Epoch 14/20\n",
      "520/520 [==============================] - 447s 859ms/step - loss: 3.8310 - acc: 0.1254 - val_loss: 3.9239 - val_acc: 0.1239\n",
      "Epoch 15/20\n",
      "520/520 [==============================] - 449s 863ms/step - loss: 3.8078 - acc: 0.1289 - val_loss: 3.9170 - val_acc: 0.1170\n",
      "Epoch 16/20\n",
      "520/520 [==============================] - 447s 859ms/step - loss: 3.7618 - acc: 0.1397 - val_loss: 3.8824 - val_acc: 0.1228\n",
      "Epoch 17/20\n",
      "520/520 [==============================] - 449s 864ms/step - loss: 3.7315 - acc: 0.1432 - val_loss: 3.8224 - val_acc: 0.1298\n",
      "Epoch 18/20\n",
      "520/520 [==============================] - 449s 864ms/step - loss: 3.6991 - acc: 0.1486 - val_loss: 3.8089 - val_acc: 0.1367\n",
      "Epoch 19/20\n",
      "520/520 [==============================] - 447s 860ms/step - loss: 3.6580 - acc: 0.1523 - val_loss: 3.7915 - val_acc: 0.1396\n",
      "Epoch 20/20\n",
      "520/520 [==============================] - 448s 862ms/step - loss: 3.6331 - acc: 0.1583 - val_loss: 3.8440 - val_acc: 0.1375\n"
     ]
    }
   ],
   "source": [
    "history = model.fit_generator(train_generator,\n",
    "    steps_per_epoch=520,\n",
    "    epochs=20,\n",
    "    validation_data=validation_generator,\n",
    "    validation_steps=520)\n",
    "\n",
    "model.save(os.path.join(base_dir,'cachorros_1.h5'))"
   ]
  },
  {
   "cell_type": "markdown",
   "metadata": {
    "colab_type": "text",
    "id": "-qBM3jUjY3i5"
   },
   "source": [
    "Traçando a perda e acurácia do modelo sobre os dados de treinamento e validação durante o treinamento."
   ]
  },
  {
   "cell_type": "code",
   "execution_count": 0,
   "metadata": {
    "colab": {
     "base_uri": "https://localhost:8080/",
     "height": 545
    },
    "colab_type": "code",
    "id": "85N5oH2bY3i6",
    "outputId": "45548096-7c55-4d8f-c248-44a709824534"
   },
   "outputs": [
    {
     "data": {
      "image/png": "[encoded data removed]",
      "text/plain": [
       "<Figure size 432x288 with 1 Axes>"
      ]
     },
     "metadata": {
      "tags": []
     },
     "output_type": "display_data"
    },
    {
     "data": {
      "image/png": "[encoded data removed]",
      "text/plain": [
       "<Figure size 432x288 with 1 Axes>"
      ]
     },
     "metadata": {
      "tags": []
     },
     "output_type": "display_data"
    }
   ],
   "source": [
    "import matplotlib.pyplot as plt\n",
    "acc = history.history['acc']\n",
    "val_acc = history.history['val_acc']\n",
    "\n",
    "loss = history.history['loss']\n",
    "val_loss = history.history['val_loss']\n",
    "\n",
    "epochs = range(1, len(acc) + 1)\n",
    "plt.plot(epochs, acc, 'bo', label='Training acc')\n",
    "plt.plot(epochs, val_acc, 'b', label='Validation acc')\n",
    "plt.title('Training and validation accuracy')\n",
    "plt.legend()\n",
    "plt.figure()\n",
    "\n",
    "plt.plot(epochs, loss, 'bo', label='Training loss')\n",
    "plt.plot(epochs, val_loss, 'b', label='Validation loss')\n",
    "plt.title('Training and validation loss')\n",
    "plt.legend()\n",
    "plt.show()"
   ]
  },
  {
   "cell_type": "markdown",
   "metadata": {
    "colab_type": "text",
    "id": "oehzrYAi5xfH"
   },
   "source": [
    "Chegamos à conclusão que, apesar de termos conseguido chegar ao final do treinamento e validação, não conseguimos uma boa acurácia pois, apesar de termos mais de 20.000 imagens, como são 120 classes, temos uma média de 167 imagens por classe."
   ]
  }
 ],
 "metadata": {
  "accelerator": "GPU",
  "colab": {
   "collapsed_sections": [],
   "name": "Cachorros.ipynb",
   "provenance": [],
   "version": "0.3.2"
  },
  "kernelspec": {
   "display_name": "Python 3",
   "language": "python",
   "name": "python3"
  },
  "language_info": {
   "codemirror_mode": {
    "name": "ipython",
    "version": 3
   },
   "file_extension": ".py",
   "mimetype": "text/x-python",
   "name": "python",
   "nbconvert_exporter": "python",
   "pygments_lexer": "ipython3",
   "version": "3.6.5"
  }
 },
 "nbformat": 4,
 "nbformat_minor": 1
}
